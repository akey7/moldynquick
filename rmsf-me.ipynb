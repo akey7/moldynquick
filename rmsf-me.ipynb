{
 "cells": [
  {
   "cell_type": "code",
   "execution_count": 4,
   "metadata": {},
   "outputs": [],
   "source": [
    "import MDAnalysis as mda\n",
    "from MDAnalysis.analysis import align\n",
    "from MDAnalysis.tests.datafiles import TPR, XTC"
   ]
  },
  {
   "cell_type": "code",
   "execution_count": 5,
   "metadata": {},
   "outputs": [],
   "source": [
    "u = mda.Universe(TPR, XTC, in_memory=True)\n",
    "protein = u.select_atoms(\"protein\")"
   ]
  },
  {
   "cell_type": "code",
   "execution_count": 6,
   "metadata": {},
   "outputs": [],
   "source": [
    "prealigner = align.AlignTraj(u, u, select=\"protein and name CA\",\n",
    "                             in_memory=True).run()"
   ]
  },
  {
   "cell_type": "code",
   "execution_count": 7,
   "metadata": {},
   "outputs": [],
   "source": [
    "ref_coordinates = u.trajectory.timeseries(asel=protein).mean(axis=1)"
   ]
  },
  {
   "cell_type": "code",
   "execution_count": 8,
   "metadata": {},
   "outputs": [],
   "source": [
    "ref = mda.Merge(protein).load_new(ref_coordinates[:, None, :],\n",
    "                                  order=\"afc\")"
   ]
  },
  {
   "cell_type": "code",
   "execution_count": 9,
   "metadata": {},
   "outputs": [],
   "source": [
    "aligner = align.AlignTraj(u, ref, select=\"protein and name CA\",\n",
    "                          in_memory=True).run()\n",
    "# need to write the trajectory to disk for PMDA 0.3.0 (see issue #15)\n",
    "with mda.Writer(\"rmsfit.xtc\", n_atoms=u.atoms.n_atoms) as W:\n",
    "    for ts in u.trajectory:\n",
    "        W.write(u.atoms)"
   ]
  },
  {
   "cell_type": "code",
   "execution_count": 13,
   "metadata": {},
   "outputs": [],
   "source": [
    "from MDAnalysis.analysis.rms import RMSF\n",
    "\n",
    "u = mda.Universe(TPR, \"rmsfit.xtc\")\n",
    "calphas = protein.select_atoms(\"protein and name CA\")\n",
    "\n",
    "rmsfer = RMSF(calphas).run()"
   ]
  },
  {
   "cell_type": "code",
   "execution_count": null,
   "metadata": {},
   "outputs": [],
   "source": []
  }
 ],
 "metadata": {
  "kernelspec": {
   "display_name": "Python 3",
   "language": "python",
   "name": "python3"
  },
  "language_info": {
   "codemirror_mode": {
    "name": "ipython",
    "version": 3
   },
   "file_extension": ".py",
   "mimetype": "text/x-python",
   "name": "python",
   "nbconvert_exporter": "python",
   "pygments_lexer": "ipython3",
   "version": "3.8.2"
  }
 },
 "nbformat": 4,
 "nbformat_minor": 4
}
